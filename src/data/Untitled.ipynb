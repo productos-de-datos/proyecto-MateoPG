{
 "cells": [
  {
   "cell_type": "code",
   "execution_count": 18,
   "id": "beginning-graduate",
   "metadata": {},
   "outputs": [
    {
     "name": "stdout",
     "output_type": "stream",
     "text": [
      "C:\\Users\\Mateo P G\\Documents\\EspecializacionAnalitica\\ProductosDatos\\Talleres\\proyecto-MateoPG\\src\\data\n"
     ]
    }
   ],
   "source": [
    "import os\n",
    "cwd = os.getcwd()\n",
    "print(cwd)"
   ]
  },
  {
   "cell_type": "code",
   "execution_count": 17,
   "id": "pleasant-gamma",
   "metadata": {},
   "outputs": [],
   "source": [
    "os.chdir('./data')"
   ]
  },
  {
   "cell_type": "code",
   "execution_count": 24,
   "id": "retained-annotation",
   "metadata": {},
   "outputs": [],
   "source": [
    "import pandas as pd\n",
    "for file in range(1995, 2022):\n",
    "    read_file = pd.read_csv(\n",
    "            '../../data_lake/raw/{}.csv'.format(file))\n",
    "    assert [\"Fecha\"] == [read_file.columns.values[0]]"
   ]
  },
  {
   "cell_type": "code",
   "execution_count": null,
   "id": "major-synthetic",
   "metadata": {},
   "outputs": [],
   "source": []
  }
 ],
 "metadata": {
  "kernelspec": {
   "display_name": "Python 3",
   "language": "python",
   "name": "python3"
  },
  "language_info": {
   "codemirror_mode": {
    "name": "ipython",
    "version": 3
   },
   "file_extension": ".py",
   "mimetype": "text/x-python",
   "name": "python",
   "nbconvert_exporter": "python",
   "pygments_lexer": "ipython3",
   "version": "3.9.1"
  }
 },
 "nbformat": 4,
 "nbformat_minor": 5
}
